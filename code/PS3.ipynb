{
 "cells": [
  {
   "cell_type": "code",
   "execution_count": 26,
   "id": "bfe45775",
   "metadata": {
    "scrolled": true
   },
   "outputs": [],
   "source": [
    "import pandas as pd\n",
    "import numpy as np\n",
    "import matplotlib.pyplot as plt"
   ]
  },
  {
   "cell_type": "code",
   "execution_count": 27,
   "id": "6df3fd2f",
   "metadata": {},
   "outputs": [],
   "source": [
    "# Exploration\n",
    "ipl_train = pd.read_csv('IPL_train.csv')\n",
    "train_data = pd.DataFrame(ipl_train)"
   ]
  },
  {
   "cell_type": "code",
   "execution_count": 30,
   "id": "e66329c1",
   "metadata": {},
   "outputs": [],
   "source": [
    "matches = train_data.groupby(train_data.match_id)"
   ]
  },
  {
   "cell_type": "code",
   "execution_count": 114,
   "id": "17ea5cee",
   "metadata": {},
   "outputs": [],
   "source": [
    "class Batsman:\n",
    "    def __init__(self, match, name):\n",
    "        self.match = match.copy()\n",
    "        self.name = name\n",
    "        self.stats = self.match.groupby(self.match.batsman).get_group(self.name)\n",
    "        self.scorechart = self.stats.batsman_runs\n",
    "        self.balls_played = self.stats.shape[0]\n",
    "        self.finalSR = np.sum(self.scorechart)*100/self.balls_played\n",
    "        self.isDismissed = self.stats.player_dismissed.isnull().values.all()\n",
    "    def calcInstSR(self, over, ball):\n",
    "        score = 0\n",
    "        sr = 0\n",
    "        balls = 0\n",
    "        for index, row in self.stats.iterrows():\n",
    "            if row['over'] == over and row['ball'] == ball:\n",
    "                return sr\n",
    "            score += row['batsman_runs']\n",
    "            balls += 1\n",
    "            sr = score*100/balls"
   ]
  },
  {
   "cell_type": "code",
   "execution_count": 115,
   "id": "206ce216",
   "metadata": {},
   "outputs": [],
   "source": [
    "class Bowler:\n",
    "    def __init__(self, match, name):\n",
    "        self.match = match.copy()\n",
    "        self.name = name\n",
    "        self.stats = self.match.groupby(self.match.bowler).get_group(self.name)\n",
    "        self.runschart = self.stats.total_runs\n",
    "        self.balls_played = self.stats.shape[0]\n",
    "        self.finalEco = np.sum(self.runschart)*6/self.balls_played\n",
    "    def calcInstEco(self, over, ball):\n",
    "        score = 0\n",
    "        eco = 0\n",
    "        balls = 0\n",
    "        for index, row in self.stats.iterrows():\n",
    "            if row['over'] == over and row['ball'] == ball:\n",
    "                return eco\n",
    "            score += row['total_runs']\n",
    "            if row['wide_runs'] == 0 or row['noball_runs'] == 0:\n",
    "                balls += 1\n",
    "            eco = score*6/balls"
   ]
  },
  {
   "cell_type": "code",
   "execution_count": 116,
   "id": "475f659d",
   "metadata": {},
   "outputs": [],
   "source": [
    "class Match:\n",
    "    def __init__(self, match):\n",
    "        self.match = match.copy()\n",
    "        self.match_id = self.match.match_id.unique()[0]\n",
    "        self.match.fillna(0, inplace=True)\n",
    "        self.batsmen = dict([(i, Batsman(self.match, i)) for i in self.match.batsman.unique()])\n",
    "        self.bowlers = dict([(i, Bowler(self.match, i)) for i in self.match.bowler.unique()])\n",
    "    def display_stats(self):\n",
    "        display(self.match)\n",
    "    def createCRRcol(self):\n",
    "        match_copy = self.match.copy()\n",
    "        score = 0\n",
    "        balls_played = 0\n",
    "        runrate = [0]\n",
    "        for i in range(self.match.index[0]+1, self.match.index[-1]+1):\n",
    "            score += match_copy.total_runs[i-1]\n",
    "            if match_copy.wide_runs[i] == 0 or match_copy.noball_runs[i] == 0:\n",
    "                balls_played += 1\n",
    "            crr = score*6/balls_played\n",
    "            runrate.append(crr)\n",
    "        self.match['CRR'] = runrate\n",
    "    def createSRCol(self):\n",
    "        match_copy = self.match.copy()\n",
    "        srcol = []\n",
    "        for index, row in match_copy.iterrows():\n",
    "            inst_sr = self.batsmen[row['batsman']].calcInstSR(row['over'], row['ball'])\n",
    "            srcol.append(inst_sr)\n",
    "        self.match['SR'] = srcol\n",
    "    def createEcoCol(self):\n",
    "        match_copy = self.match.copy()\n",
    "        ecocol = []\n",
    "        for index, row in match_copy.iterrows():\n",
    "            inst_eco = self.bowlers[row['bowler']].calcInstEco(row['over'], row['ball'])\n",
    "            ecocol.append(inst_eco)\n",
    "        self.match['Economy'] = ecocol\n",
    "    def createExpExtra(self):\n",
    "        match_copy = self.match.copy()\n",
    "        extracol = [0]\n",
    "        extras = 0\n",
    "        balls_played = 0\n",
    "        for i in range(self.match.index[0]+1, self.match.index[-1]+1):\n",
    "            extras += match_copy.extra_runs[i-1]\n",
    "            if match_copy.extra_runs[i] != 0:\n",
    "                balls_played += 1\n",
    "            if balls_played != 0:\n",
    "                expextra = extras/balls_played\n",
    "            else:\n",
    "                expextra = 0\n",
    "            extracol.append(expextra)\n",
    "        self.match['ExpExtra'] = extracol\n",
    "    def createWicketsLeftCol(self):\n",
    "        match_copy = self.match.copy()\n",
    "        wickets = 10\n",
    "        w_left = [10]\n",
    "        for i in range(self.match.index[0]+1, self.match.index[-1]+1):\n",
    "            if match_copy.player_dismissed[i] != 0:\n",
    "                wickets -= 1\n",
    "            w_left.append(wickets)\n",
    "        self.match['WicketsLeft'] = w_left\n",
    "    def createScoreCol(self):\n",
    "        match_copy = self.match.copy()\n",
    "        scorecol = []\n",
    "        score = 0\n",
    "        for i in range(self.match.index[0], self.match.index[-1]+1):\n",
    "            score += match_copy.total_runs[i]\n",
    "            scorecol.append(score)\n",
    "        self.match['Score'] = scorecol"
   ]
  },
  {
   "cell_type": "code",
   "execution_count": 380,
   "id": "4673b1bf",
   "metadata": {},
   "outputs": [],
   "source": [
    "def compressMatch(match):\n",
    "    match_obj = Match(match)\n",
    "    match_obj.createCRRcol()\n",
    "    avgRR = np.mean(match_obj.match.CRR)\n",
    "    avgSR = np.mean(np.array([i.finalSR for i in match_obj.batsmen.values()]))\n",
    "    Score1 = np.max(np.array([np.sum(i.scorechart) for i in match_obj.batsmen.values()]))            \n",
    "    avgEco = np.mean(np.array([i.finalEco for i in match_obj.bowlers.values()]))\n",
    "    match_obj.createExpExtra()\n",
    "    avgExtra = match_obj.match.ExpExtra.tail(1).item()\n",
    "    match_obj.createWicketsLeftCol()\n",
    "    finalWickets = np.min(match_obj.match.WicketsLeft)\n",
    "    match_id = match_obj.match_id\n",
    "    match_obj.createScoreCol()\n",
    "    score = np.max(match_obj.match.Score)\n",
    "    BowlConf = 1/(1+np.exp(finalWickets))\n",
    "    return [match_id, avgRR, avgSR/100, Score1/100, avgEco, avgExtra, score/10]"
   ]
  },
  {
   "cell_type": "code",
   "execution_count": 400,
   "id": "75ca491b",
   "metadata": {},
   "outputs": [],
   "source": [
    "def createX(matches):\n",
    "    rows = []\n",
    "    for match_id, match in matches:\n",
    "        row = compressMatch(match)\n",
    "        rows.append(row)\n",
    "    col_names = ['match_id', 'avgRR', 'SRscaled', 'Score1scaled', 'Ecoscaled', 'Extras', 'Scorescaled']\n",
    "    df = pd.DataFrame(rows, columns=col_names)\n",
    "    return df"
   ]
  },
  {
   "cell_type": "code",
   "execution_count": 401,
   "id": "ed013163",
   "metadata": {
    "scrolled": true
   },
   "outputs": [
    {
     "data": {
      "text/plain": [
       "(300, 7)"
      ]
     },
     "execution_count": 401,
     "metadata": {},
     "output_type": "execute_result"
    }
   ],
   "source": [
    "df = createX(matches)"
   ]
  },
  {
   "cell_type": "code",
   "execution_count": 383,
   "id": "e5373427",
   "metadata": {},
   "outputs": [],
   "source": [
    "Y_data = df['Scorescaled']\n",
    "df.drop(['match_id', 'Scorescaled'], axis=1, inplace=True)\n",
    "X_data = df"
   ]
  },
  {
   "cell_type": "code",
   "execution_count": 396,
   "id": "b95ca642",
   "metadata": {},
   "outputs": [],
   "source": [
    "from sklearn.model_selection import train_test_split\n",
    "f = 0.12\n",
    "\n",
    "X_train, X_test, Y_train, Y_test = train_test_split(X_data, Y_data, test_size=f, random_state=0)"
   ]
  },
  {
   "cell_type": "code",
   "execution_count": 397,
   "id": "7bde9da1",
   "metadata": {},
   "outputs": [
    {
     "data": {
      "text/plain": [
       "LinearRegression(fit_intercept=False)"
      ]
     },
     "execution_count": 397,
     "metadata": {},
     "output_type": "execute_result"
    }
   ],
   "source": [
    "from sklearn.linear_model import LinearRegression\n",
    "\n",
    "lr = LinearRegression(fit_intercept=False)\n",
    "\n",
    "lr.fit(X_train, Y_train)"
   ]
  },
  {
   "cell_type": "code",
   "execution_count": 398,
   "id": "8ec8a90a",
   "metadata": {},
   "outputs": [
    {
     "name": "stdout",
     "output_type": "stream",
     "text": [
      "41.61400542802872\n"
     ]
    }
   ],
   "source": [
    "Y_pred = lr.predict(X_test)\n",
    "\n",
    "from sklearn.metrics import mean_squared_error as mse\n",
    "\n",
    "# print(mse(Y_pred*10, Y_test*10))"
   ]
  },
  {
   "cell_type": "code",
   "execution_count": 399,
   "id": "294e87da",
   "metadata": {},
   "outputs": [
    {
     "data": {
      "image/png": "[encoded data removed]",
      "text/plain": [
       "<Figure size 432x288 with 1 Axes>"
      ]
     },
     "metadata": {
      "needs_background": "light"
     },
     "output_type": "display_data"
    }
   ],
   "source": [
    "# plt.plot(Y_test, Y_pred, 'r.')\n",
    "# plt.show()"
   ]
  },
  {
   "cell_type": "code",
   "execution_count": 404,
   "id": "9c30f190",
   "metadata": {},
   "outputs": [],
   "source": [
    "ipl_test = pd.read_csv('IPL_test.csv')\n",
    "test_data = pd.DataFrame(ipl_test)"
   ]
  },
  {
   "cell_type": "code",
   "execution_count": 405,
   "id": "d12f8603",
   "metadata": {},
   "outputs": [],
   "source": [
    "test_matches = test_data.groupby(test_data.match_id)"
   ]
  },
  {
   "cell_type": "code",
   "execution_count": 409,
   "id": "e92e0cbf",
   "metadata": {},
   "outputs": [],
   "source": [
    "test_df = createX(test_matches)"
   ]
  },
  {
   "cell_type": "code",
   "execution_count": 410,
   "id": "552c6787",
   "metadata": {},
   "outputs": [],
   "source": [
    "test_df.drop(['match_id'], axis=1, inplace=True)\n",
    "x_data = test_df"
   ]
  },
  {
   "cell_type": "code",
   "execution_count": 416,
   "id": "61e3a570",
   "metadata": {},
   "outputs": [],
   "source": [
    "x_data.drop(['Scorescaled'], axis=1, inplace=True)"
   ]
  },
  {
   "cell_type": "code",
   "execution_count": 417,
   "id": "01424eba",
   "metadata": {},
   "outputs": [],
   "source": [
    "test_pred = lr.predict(x_data)"
   ]
  },
  {
   "cell_type": "code",
   "execution_count": 420,
   "id": "bfde2d30",
   "metadata": {},
   "outputs": [],
   "source": [
    "final_predictions = test_pred*10"
   ]
  },
  {
   "cell_type": "code",
   "execution_count": 422,
   "id": "f861b5ee",
   "metadata": {},
   "outputs": [
    {
     "data": {
      "text/html": [
       "<div>\n",
       "<style scoped>\n",
       "    .dataframe tbody tr th:only-of-type {\n",
       "        vertical-align: middle;\n",
       "    }\n",
       "\n",
       "    .dataframe tbody tr th {\n",
       "        vertical-align: top;\n",
       "    }\n",
       "\n",
       "    .dataframe thead th {\n",
       "        text-align: right;\n",
       "    }\n",
       "</style>\n",
       "<table border=\"1\" class=\"dataframe\">\n",
       "  <thead>\n",
       "    <tr style=\"text-align: right;\">\n",
       "      <th></th>\n",
       "      <th>predictions</th>\n",
       "    </tr>\n",
       "  </thead>\n",
       "  <tbody>\n",
       "    <tr>\n",
       "      <th>0</th>\n",
       "      <td>134.614041</td>\n",
       "    </tr>\n",
       "    <tr>\n",
       "      <th>1</th>\n",
       "      <td>139.099116</td>\n",
       "    </tr>\n",
       "    <tr>\n",
       "      <th>2</th>\n",
       "      <td>143.659038</td>\n",
       "    </tr>\n",
       "    <tr>\n",
       "      <th>3</th>\n",
       "      <td>175.518675</td>\n",
       "    </tr>\n",
       "    <tr>\n",
       "      <th>4</th>\n",
       "      <td>183.661056</td>\n",
       "    </tr>\n",
       "    <tr>\n",
       "      <th>...</th>\n",
       "      <td>...</td>\n",
       "    </tr>\n",
       "    <tr>\n",
       "      <th>95</th>\n",
       "      <td>150.437851</td>\n",
       "    </tr>\n",
       "    <tr>\n",
       "      <th>96</th>\n",
       "      <td>118.044043</td>\n",
       "    </tr>\n",
       "    <tr>\n",
       "      <th>97</th>\n",
       "      <td>157.780558</td>\n",
       "    </tr>\n",
       "    <tr>\n",
       "      <th>98</th>\n",
       "      <td>146.609016</td>\n",
       "    </tr>\n",
       "    <tr>\n",
       "      <th>99</th>\n",
       "      <td>144.713512</td>\n",
       "    </tr>\n",
       "  </tbody>\n",
       "</table>\n",
       "<p>100 rows × 1 columns</p>\n",
       "</div>"
      ],
      "text/plain": [
       "    predictions\n",
       "0    134.614041\n",
       "1    139.099116\n",
       "2    143.659038\n",
       "3    175.518675\n",
       "4    183.661056\n",
       "..          ...\n",
       "95   150.437851\n",
       "96   118.044043\n",
       "97   157.780558\n",
       "98   146.609016\n",
       "99   144.713512\n",
       "\n",
       "[100 rows x 1 columns]"
      ]
     },
     "execution_count": 422,
     "metadata": {},
     "output_type": "execute_result"
    }
   ],
   "source": [
    "final_df = pd.DataFrame(final_predictions, columns=['predictions'])"
   ]
  },
  {
   "cell_type": "code",
   "execution_count": 423,
   "id": "b797592b",
   "metadata": {},
   "outputs": [],
   "source": [
    "final_df.to_csv('IPL_test_predictions.csv')"
   ]
  }
 ],
 "metadata": {
  "kernelspec": {
   "display_name": "Python 3",
   "language": "python",
   "name": "python3"
  },
  "language_info": {
   "codemirror_mode": {
    "name": "ipython",
    "version": 3
   },
   "file_extension": ".py",
   "mimetype": "text/x-python",
   "name": "python",
   "nbconvert_exporter": "python",
   "pygments_lexer": "ipython3",
   "version": "3.8.8"
  }
 },
 "nbformat": 4,
 "nbformat_minor": 5
}
